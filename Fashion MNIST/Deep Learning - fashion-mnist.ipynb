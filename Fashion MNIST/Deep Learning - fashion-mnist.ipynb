{
 "cells": [
  {
   "attachments": {},
   "cell_type": "markdown",
   "metadata": {
    "id": "cIg6enKVhhi4"
   },
   "source": [
    "\n",
    "\n",
    "## Deep Learning Coursework **\n",
    "\n",
    "**Description**: Create a code using this template to train a Convolutional Neural Network (CNN) on the fashion MNIST dataset available at https://keras.io/api/datasets/fashion_mnist/ . \n",
    "\n",
    "Fashion MNIST is a dataset of 60,000 28x28 grayscale images of 10 fashion categories, along with a test set of 10,000 images.\n",
    "\n",
    "The dataset should be imported in the code and one sample image should be visualised before applying the model.\n",
    "\n",
    "Define a CNN and comment the chosen parameters of the network. Apply a regularization method (L1, L2 or L1L2). Divide the dataset into training, validation and test set. Obtain the accuracy on the validation set and plot the final results using the data from the test set.\n"
   ]
  },
  {
   "cell_type": "code",
   "execution_count": 1,
   "metadata": {
    "id": "Sd1QGylWZAkA"
   },
   "outputs": [
    {
     "name": "stderr",
     "output_type": "stream",
     "text": [
      "2023-02-24 14:31:30.912493: W tensorflow/stream_executor/platform/default/dso_loader.cc:64] Could not load dynamic library 'libcudart.so.11.0'; dlerror: libcudart.so.11.0: cannot open shared object file: No such file or directory\n",
      "2023-02-24 14:31:30.912526: I tensorflow/stream_executor/cuda/cudart_stub.cc:29] Ignore above cudart dlerror if you do not have a GPU set up on your machine.\n"
     ]
    }
   ],
   "source": [
    "# importing of modules for CIFAR-10 CNN \n",
    "# from tensorflow.keras.datasets import cifar10\n",
    "from tensorflow.keras.datasets import fashion_mnist\n",
    "from tensorflow.keras.models import Sequential\n",
    "from tensorflow.keras.layers import Conv2D\n",
    "from tensorflow.keras.layers import MaxPooling2D\n",
    "from tensorflow.keras.layers import Activation\n",
    "from tensorflow.keras.layers import Flatten\n",
    "from tensorflow.keras.layers import Dense\n",
    "from tensorflow.keras.datasets import mnist\n",
    "from tensorflow.keras import utils\n",
    "from tensorflow.keras.optimizers import SGD, RMSprop, Adam\n",
    "from sklearn.model_selection import train_test_split\n",
    "from keras.regularizers import l2\n",
    "from keras.regularizers import l1\n",
    "from keras.regularizers import l1_l2\n",
    "\n",
    "# importing of service libraries\n",
    "import numpy as np\n",
    "import matplotlib.pyplot as plt"
   ]
  },
  {
   "cell_type": "code",
   "execution_count": 2,
   "metadata": {
    "id": "FkERIusYhcK6"
   },
   "outputs": [],
   "source": [
    "from sklearn.model_selection import KFold\n",
    "\n",
    "(x_train, y_train), (x_test, y_test) = fashion_mnist.load_data()\n",
    "\n",
    "sample_image = x_train[0]\n",
    "\n",
    "# consider them as float and normalize\n",
    "x_train = x_train.astype('float32')\n",
    "x_test = x_test.astype('float32')\n",
    "x_train /= 255 \n",
    "x_test /= 255  \n",
    "\n",
    "# we need a 60K x [1 x 28 x 28] shape as input to the CONVNET\n",
    "x_train = x_train.reshape(60000, 28, 28, 1)\n",
    "x_test = x_test.reshape(10000, 28, 28, 1)\n",
    "\n",
    "\n",
    "# convert class vectors to binary class matrices\n",
    "y_train = utils.to_categorical(y_train,10 )\n",
    "y_test = utils.to_categorical(y_test, 10)\n",
    "\n",
    "# Define the number of folds\n",
    "k = 5\n",
    "\n",
    "# Split the data into k folds\n",
    "kfold = KFold(k, shuffle=True, random_state=0)\n",
    "\n",
    "# concatenate the data in preparation for the kfold split\n",
    "combined_x_data = np.concatenate((x_train, x_test))\n",
    "combined_y_data = np.concatenate((y_train, y_test))"
   ]
  },
  {
   "cell_type": "code",
   "execution_count": 4,
   "metadata": {},
   "outputs": [
    {
     "data": {
      "text/plain": [
       "(70000, 10)"
      ]
     },
     "execution_count": 4,
     "metadata": {},
     "output_type": "execute_result"
    }
   ],
   "source": [
    "combined_y_data.shape"
   ]
  },
  {
   "cell_type": "code",
   "execution_count": 5,
   "metadata": {
    "colab": {
     "base_uri": "https://localhost:8080/",
     "height": 265
    },
    "id": "tV9PO1GBl5_6",
    "outputId": "b5b62043-fbe0-419a-d718-9c88c5b2787c"
   },
   "outputs": [
    {
     "data": {
      "image/png": "[encoded data removed]",
      "text/plain": [
       "<Figure size 432x288 with 1 Axes>"
      ]
     },
     "metadata": {
      "needs_background": "light"
     },
     "output_type": "display_data"
    }
   ],
   "source": [
    "plt.imshow(sample_image)\n",
    "plt.show() "
   ]
  },
  {
   "cell_type": "code",
   "execution_count": 6,
   "metadata": {
    "colab": {
     "base_uri": "https://localhost:8080/"
    },
    "id": "bTTrIN_nnDWK",
    "outputId": "eadb0ede-e1c5-40e2-a7a5-754b6e004da3"
   },
   "outputs": [
    {
     "name": "stdout",
     "output_type": "stream",
     "text": [
      "Model: \"sequential\"\n",
      "_________________________________________________________________\n",
      " Layer (type)                Output Shape              Param #   \n",
      "=================================================================\n",
      " conv2d (Conv2D)             (None, 28, 28, 32)        320       \n",
      "                                                                 \n",
      " max_pooling2d (MaxPooling2D  (None, 14, 14, 32)       0         \n",
      " )                                                               \n",
      "                                                                 \n",
      " conv2d_1 (Conv2D)           (None, 14, 14, 64)        18496     \n",
      "                                                                 \n",
      " max_pooling2d_1 (MaxPooling  (None, 7, 7, 64)         0         \n",
      " 2D)                                                             \n",
      "                                                                 \n",
      " flatten (Flatten)           (None, 3136)              0         \n",
      "                                                                 \n",
      " dense (Dense)               (None, 128)               401536    \n",
      "                                                                 \n",
      " activation (Activation)     (None, 128)               0         \n",
      "                                                                 \n",
      " dense_1 (Dense)             (None, 64)                8256      \n",
      "                                                                 \n",
      " dense_2 (Dense)             (None, 10)                650       \n",
      "                                                                 \n",
      " activation_1 (Activation)   (None, 10)                0         \n",
      "                                                                 \n",
      "=================================================================\n",
      "Total params: 429,258\n",
      "Trainable params: 429,258\n",
      "Non-trainable params: 0\n",
      "_________________________________________________________________\n"
     ]
    },
    {
     "name": "stderr",
     "output_type": "stream",
     "text": [
      "2023-02-23 15:42:47.481231: W tensorflow/stream_executor/platform/default/dso_loader.cc:64] Could not load dynamic library 'libcuda.so.1'; dlerror: libcuda.so.1: cannot open shared object file: No such file or directory\n",
      "2023-02-23 15:42:47.481270: W tensorflow/stream_executor/cuda/cuda_driver.cc:269] failed call to cuInit: UNKNOWN ERROR (303)\n",
      "2023-02-23 15:42:47.481293: I tensorflow/stream_executor/cuda/cuda_diagnostics.cc:156] kernel driver does not appear to be running on this host (jupyter): /proc/driver/nvidia/version does not exist\n",
      "2023-02-23 15:42:47.481554: I tensorflow/core/platform/cpu_feature_guard.cc:151] This TensorFlow binary is optimized with oneAPI Deep Neural Network Library (oneDNN) to use the following CPU instructions in performance-critical operations:  AVX2 AVX512F FMA\n",
      "To enable them in other operations, rebuild TensorFlow with the appropriate compiler flags.\n"
     ]
    }
   ],
   "source": [
    "# network and training parameters\n",
    "N_EPOCH = 20 \n",
    "BATCH_SIZE = 128 # number of samples to be processed before updating the model\n",
    "VERBOSE = 1 \n",
    "OPTIMIZER = Adam()\n",
    "\n",
    "IMG_ROWS, IMG_COLS = 28, 28 # input  dimensions of each MNIST image\n",
    "N_CLASSES = 10  # number of fashion categories\n",
    "INPUT_SHAPE = (IMG_ROWS, IMG_COLS, 1) # input shape to be fed into the convolutional layers\n",
    "\n",
    "# Images have to be reshaped from matrices to a single long row\n",
    "RESHAPED = 784\n",
    "\n",
    "# Instantiate a Keras model with sequential layers\n",
    "model = Sequential()\n",
    "\n",
    "# The first convolutional layer has zero padding so as to not ignore the edges (rows & columns) of the images\n",
    "# Using relu as it is fast to compute\n",
    "model.add(Conv2D(32, kernel_size=3, padding=\"same\", input_shape=INPUT_SHAPE, activation=\"relu\"))\n",
    "model.add(MaxPooling2D(pool_size=(2, 2), strides=(2, 2), padding='same'))\n",
    "\n",
    "# Second convolutional layer\n",
    "model.add(Conv2D(64, kernel_size=3, padding=\"same\", input_shape=INPUT_SHAPE, activation=\"relu\"))\n",
    "model.add(MaxPooling2D(pool_size=(2, 2), strides=(2, 2), padding='same'))\n",
    "\n",
    "# Flatten all the layers to be added into the \n",
    "model.add(Flatten())\n",
    "model.add(Dense(128, kernel_regularizer=l2(0.01))) \n",
    "model.add(Activation('relu'))\n",
    "model.add(Dense(64, kernel_regularizer=l2(0.01)))\n",
    "model.add(Dense(N_CLASSES)) # 10 different fashion categories\n",
    "model.add(Activation('softmax')) # using the activation softmax as it is a multiclass classification problem\n",
    "model.summary()"
   ]
  },
  {
   "cell_type": "code",
   "execution_count": 7,
   "metadata": {
    "colab": {
     "base_uri": "https://localhost:8080/",
     "height": 415
    },
    "id": "urupEGOFooUz",
    "outputId": "cd2a111e-ce22-4392-ec21-5c55020d9809"
   },
   "outputs": [
    {
     "name": "stdout",
     "output_type": "stream",
     "text": [
      "Epoch 1/20\n",
      "438/438 [==============================] - 16s 35ms/step - loss: 1.2051 - accuracy: 0.7966\n",
      "Epoch 2/20\n",
      "438/438 [==============================] - 14s 33ms/step - loss: 0.6345 - accuracy: 0.8522\n",
      "Epoch 3/20\n",
      "438/438 [==============================] - 14s 33ms/step - loss: 0.5238 - accuracy: 0.8660\n",
      "Epoch 4/20\n",
      "438/438 [==============================] - 15s 33ms/step - loss: 0.4665 - accuracy: 0.8754\n",
      "Epoch 5/20\n",
      "438/438 [==============================] - 14s 32ms/step - loss: 0.4372 - accuracy: 0.8802\n",
      "Epoch 6/20\n",
      "438/438 [==============================] - 14s 33ms/step - loss: 0.4158 - accuracy: 0.8857\n",
      "Epoch 7/20\n",
      "438/438 [==============================] - 14s 32ms/step - loss: 0.3966 - accuracy: 0.8904\n",
      "Epoch 8/20\n",
      "438/438 [==============================] - 14s 33ms/step - loss: 0.3817 - accuracy: 0.8942\n",
      "Epoch 9/20\n",
      "438/438 [==============================] - 14s 32ms/step - loss: 0.3714 - accuracy: 0.8964\n",
      "Epoch 10/20\n",
      "438/438 [==============================] - 14s 31ms/step - loss: 0.3631 - accuracy: 0.8998\n",
      "Epoch 11/20\n",
      "438/438 [==============================] - 11s 26ms/step - loss: 0.3520 - accuracy: 0.9025\n",
      "Epoch 12/20\n",
      "438/438 [==============================] - 11s 24ms/step - loss: 0.3425 - accuracy: 0.9046\n",
      "Epoch 13/20\n",
      "438/438 [==============================] - 11s 25ms/step - loss: 0.3406 - accuracy: 0.9050\n",
      "Epoch 14/20\n",
      "438/438 [==============================] - 11s 24ms/step - loss: 0.3334 - accuracy: 0.9068\n",
      "Epoch 15/20\n",
      "438/438 [==============================] - 11s 26ms/step - loss: 0.3259 - accuracy: 0.9097\n",
      "Epoch 16/20\n",
      "438/438 [==============================] - 11s 24ms/step - loss: 0.3216 - accuracy: 0.9105\n",
      "Epoch 17/20\n",
      "438/438 [==============================] - 11s 24ms/step - loss: 0.3189 - accuracy: 0.9124\n",
      "Epoch 18/20\n",
      "438/438 [==============================] - 10s 24ms/step - loss: 0.3159 - accuracy: 0.9126\n",
      "Epoch 19/20\n",
      "438/438 [==============================] - 11s 25ms/step - loss: 0.3096 - accuracy: 0.9132\n",
      "Epoch 20/20\n",
      "438/438 [==============================] - 11s 25ms/step - loss: 0.3094 - accuracy: 0.9148\n",
      "438/438 [==============================] - 2s 5ms/step - loss: 0.3189 - accuracy: 0.9121\n",
      "Epoch 1/20\n",
      "438/438 [==============================] - 11s 25ms/step - loss: 0.3067 - accuracy: 0.9148\n",
      "Epoch 2/20\n",
      "438/438 [==============================] - 11s 25ms/step - loss: 0.2986 - accuracy: 0.9171\n",
      "Epoch 3/20\n",
      "438/438 [==============================] - 12s 27ms/step - loss: 0.2941 - accuracy: 0.9186\n",
      "Epoch 4/20\n",
      "438/438 [==============================] - 15s 35ms/step - loss: 0.2916 - accuracy: 0.9204\n",
      "Epoch 5/20\n",
      "438/438 [==============================] - 15s 34ms/step - loss: 0.2888 - accuracy: 0.9213\n",
      "Epoch 6/20\n",
      "438/438 [==============================] - 15s 34ms/step - loss: 0.2895 - accuracy: 0.9204\n",
      "Epoch 7/20\n",
      "438/438 [==============================] - 15s 34ms/step - loss: 0.2865 - accuracy: 0.9214\n",
      "Epoch 8/20\n",
      "438/438 [==============================] - 15s 34ms/step - loss: 0.2848 - accuracy: 0.9219\n",
      "Epoch 9/20\n",
      "438/438 [==============================] - 15s 34ms/step - loss: 0.2817 - accuracy: 0.9227\n",
      "Epoch 10/20\n",
      "438/438 [==============================] - 15s 34ms/step - loss: 0.2769 - accuracy: 0.9243\n",
      "Epoch 11/20\n",
      "438/438 [==============================] - 15s 34ms/step - loss: 0.2779 - accuracy: 0.9241\n",
      "Epoch 12/20\n",
      "438/438 [==============================] - 15s 35ms/step - loss: 0.2738 - accuracy: 0.9263\n",
      "Epoch 13/20\n",
      "438/438 [==============================] - 15s 35ms/step - loss: 0.2731 - accuracy: 0.9264\n",
      "Epoch 14/20\n",
      "438/438 [==============================] - 15s 35ms/step - loss: 0.2692 - accuracy: 0.9273\n",
      "Epoch 15/20\n",
      "438/438 [==============================] - 16s 36ms/step - loss: 0.2676 - accuracy: 0.9276\n",
      "Epoch 16/20\n",
      "438/438 [==============================] - 15s 34ms/step - loss: 0.2683 - accuracy: 0.9278\n",
      "Epoch 17/20\n",
      "438/438 [==============================] - 15s 35ms/step - loss: 0.2632 - accuracy: 0.9292\n",
      "Epoch 18/20\n",
      "438/438 [==============================] - 15s 35ms/step - loss: 0.2603 - accuracy: 0.9305\n",
      "Epoch 19/20\n",
      "438/438 [==============================] - 16s 38ms/step - loss: 0.2597 - accuracy: 0.9307\n",
      "Epoch 20/20\n",
      "438/438 [==============================] - 15s 34ms/step - loss: 0.2599 - accuracy: 0.9303\n",
      "438/438 [==============================] - 3s 8ms/step - loss: 0.3050 - accuracy: 0.9157\n",
      "Epoch 1/20\n",
      "438/438 [==============================] - 18s 41ms/step - loss: 0.2713 - accuracy: 0.9264\n",
      "Epoch 2/20\n",
      "438/438 [==============================] - 18s 42ms/step - loss: 0.2620 - accuracy: 0.9289\n",
      "Epoch 3/20\n",
      "438/438 [==============================] - 18s 42ms/step - loss: 0.2610 - accuracy: 0.9296\n",
      "Epoch 4/20\n",
      "438/438 [==============================] - 19s 43ms/step - loss: 0.2581 - accuracy: 0.9310\n",
      "Epoch 5/20\n",
      "438/438 [==============================] - 19s 42ms/step - loss: 0.2580 - accuracy: 0.9312\n",
      "Epoch 6/20\n",
      "438/438 [==============================] - 19s 43ms/step - loss: 0.2562 - accuracy: 0.9316\n",
      "Epoch 7/20\n",
      "438/438 [==============================] - 19s 43ms/step - loss: 0.2503 - accuracy: 0.9340\n",
      "Epoch 8/20\n",
      "438/438 [==============================] - 19s 42ms/step - loss: 0.2501 - accuracy: 0.9334\n",
      "Epoch 9/20\n",
      "438/438 [==============================] - 18s 42ms/step - loss: 0.2510 - accuracy: 0.9328\n",
      "Epoch 10/20\n",
      "438/438 [==============================] - 18s 42ms/step - loss: 0.2504 - accuracy: 0.9325\n",
      "Epoch 11/20\n",
      "438/438 [==============================] - 19s 42ms/step - loss: 0.2494 - accuracy: 0.9327\n",
      "Epoch 12/20\n",
      "438/438 [==============================] - 19s 43ms/step - loss: 0.2495 - accuracy: 0.9333\n",
      "Epoch 13/20\n",
      "438/438 [==============================] - 20s 45ms/step - loss: 0.2462 - accuracy: 0.9351\n",
      "Epoch 14/20\n",
      "438/438 [==============================] - 19s 43ms/step - loss: 0.2439 - accuracy: 0.9354\n",
      "Epoch 15/20\n",
      "438/438 [==============================] - 18s 42ms/step - loss: 0.2456 - accuracy: 0.9351\n",
      "Epoch 16/20\n",
      "438/438 [==============================] - 18s 42ms/step - loss: 0.2437 - accuracy: 0.9356\n",
      "Epoch 17/20\n",
      "438/438 [==============================] - 17s 38ms/step - loss: 0.2450 - accuracy: 0.9345\n",
      "Epoch 18/20\n",
      "438/438 [==============================] - 16s 37ms/step - loss: 0.2418 - accuracy: 0.9364\n",
      "Epoch 19/20\n",
      "438/438 [==============================] - 18s 42ms/step - loss: 0.2379 - accuracy: 0.9378\n",
      "Epoch 20/20\n",
      "438/438 [==============================] - 18s 41ms/step - loss: 0.2421 - accuracy: 0.9356\n",
      "438/438 [==============================] - 4s 9ms/step - loss: 0.2625 - accuracy: 0.9304\n",
      "Epoch 1/20\n",
      "438/438 [==============================] - 19s 41ms/step - loss: 0.2488 - accuracy: 0.9338\n",
      "Epoch 2/20\n",
      "438/438 [==============================] - 18s 41ms/step - loss: 0.2421 - accuracy: 0.9364\n",
      "Epoch 3/20\n",
      "438/438 [==============================] - 18s 41ms/step - loss: 0.2411 - accuracy: 0.9358\n",
      "Epoch 4/20\n",
      "438/438 [==============================] - 18s 42ms/step - loss: 0.2394 - accuracy: 0.9363\n",
      "Epoch 5/20\n",
      "438/438 [==============================] - 18s 41ms/step - loss: 0.2367 - accuracy: 0.9378\n",
      "Epoch 6/20\n",
      "438/438 [==============================] - 23s 52ms/step - loss: 0.2354 - accuracy: 0.9385\n",
      "Epoch 7/20\n",
      "438/438 [==============================] - 24s 54ms/step - loss: 0.2370 - accuracy: 0.9375\n",
      "Epoch 8/20\n",
      "438/438 [==============================] - 22s 51ms/step - loss: 0.2383 - accuracy: 0.9371\n",
      "Epoch 9/20\n",
      "438/438 [==============================] - 23s 52ms/step - loss: 0.2317 - accuracy: 0.9390\n",
      "Epoch 10/20\n",
      "438/438 [==============================] - 23s 52ms/step - loss: 0.2324 - accuracy: 0.9388\n",
      "Epoch 11/20\n",
      "438/438 [==============================] - 22s 51ms/step - loss: 0.2309 - accuracy: 0.9405\n",
      "Epoch 12/20\n",
      "438/438 [==============================] - 22s 50ms/step - loss: 0.2326 - accuracy: 0.9386\n",
      "Epoch 13/20\n",
      "438/438 [==============================] - 21s 48ms/step - loss: 0.2295 - accuracy: 0.9408\n",
      "Epoch 14/20\n",
      "438/438 [==============================] - 18s 41ms/step - loss: 0.2289 - accuracy: 0.9394\n",
      "Epoch 15/20\n",
      "438/438 [==============================] - 20s 45ms/step - loss: 0.2286 - accuracy: 0.9413\n",
      "Epoch 16/20\n",
      "438/438 [==============================] - 19s 44ms/step - loss: 0.2273 - accuracy: 0.9409\n",
      "Epoch 17/20\n",
      "438/438 [==============================] - 21s 48ms/step - loss: 0.2261 - accuracy: 0.9411\n",
      "Epoch 18/20\n",
      "438/438 [==============================] - 23s 52ms/step - loss: 0.2260 - accuracy: 0.9421\n",
      "Epoch 19/20\n",
      "438/438 [==============================] - 23s 52ms/step - loss: 0.2241 - accuracy: 0.9419\n",
      "Epoch 20/20\n",
      "438/438 [==============================] - 23s 52ms/step - loss: 0.2252 - accuracy: 0.9424\n",
      "438/438 [==============================] - 5s 12ms/step - loss: 0.2805 - accuracy: 0.9229\n",
      "Epoch 1/20\n",
      "438/438 [==============================] - 23s 52ms/step - loss: 0.2359 - accuracy: 0.9381\n",
      "Epoch 2/20\n",
      "438/438 [==============================] - 23s 52ms/step - loss: 0.2287 - accuracy: 0.9404\n",
      "Epoch 3/20\n",
      "438/438 [==============================] - 19s 43ms/step - loss: 0.2256 - accuracy: 0.9408\n",
      "Epoch 4/20\n",
      "438/438 [==============================] - 19s 42ms/step - loss: 0.2267 - accuracy: 0.9402\n",
      "Epoch 5/20\n",
      "438/438 [==============================] - 18s 41ms/step - loss: 0.2248 - accuracy: 0.9420\n",
      "Epoch 6/20\n",
      "438/438 [==============================] - 18s 40ms/step - loss: 0.2233 - accuracy: 0.9423\n",
      "Epoch 7/20\n",
      "438/438 [==============================] - 20s 45ms/step - loss: 0.2234 - accuracy: 0.9424\n",
      "Epoch 8/20\n",
      "438/438 [==============================] - 21s 47ms/step - loss: 0.2195 - accuracy: 0.9440\n",
      "Epoch 9/20\n",
      "438/438 [==============================] - 23s 52ms/step - loss: 0.2216 - accuracy: 0.9430\n",
      "Epoch 10/20\n",
      "438/438 [==============================] - 23s 52ms/step - loss: 0.2185 - accuracy: 0.9447\n",
      "Epoch 11/20\n",
      "438/438 [==============================] - 22s 51ms/step - loss: 0.2187 - accuracy: 0.9439\n",
      "Epoch 12/20\n",
      "438/438 [==============================] - 23s 52ms/step - loss: 0.2182 - accuracy: 0.9442\n",
      "Epoch 13/20\n",
      "438/438 [==============================] - 23s 52ms/step - loss: 0.2153 - accuracy: 0.9454\n",
      "Epoch 14/20\n",
      "438/438 [==============================] - 23s 52ms/step - loss: 0.2166 - accuracy: 0.9457\n",
      "Epoch 15/20\n",
      "438/438 [==============================] - 23s 52ms/step - loss: 0.2180 - accuracy: 0.9447\n",
      "Epoch 16/20\n",
      "438/438 [==============================] - 23s 52ms/step - loss: 0.2146 - accuracy: 0.9472\n",
      "Epoch 17/20\n",
      "438/438 [==============================] - 23s 52ms/step - loss: 0.2152 - accuracy: 0.9464\n",
      "Epoch 18/20\n",
      "438/438 [==============================] - 23s 52ms/step - loss: 0.2111 - accuracy: 0.9482\n",
      "Epoch 19/20\n",
      "438/438 [==============================] - 23s 52ms/step - loss: 0.2132 - accuracy: 0.9455\n",
      "Epoch 20/20\n",
      "438/438 [==============================] - 23s 52ms/step - loss: 0.2112 - accuracy: 0.9482\n",
      "438/438 [==============================] - 5s 12ms/step - loss: 0.2878 - accuracy: 0.9230\n"
     ]
    }
   ],
   "source": [
    "# train and test the model \n",
    "\n",
    "# variables to store the accuracy and losses of the training and testing data\n",
    "histories = []\n",
    "test_accuracies = []\n",
    "test_losses = []\n",
    "\n",
    "# split the data into kfold \n",
    "for i, (train_index, test_index) in enumerate(kfold.split(combined_x_data)):\n",
    "\n",
    "    model.compile(optimizer=OPTIMIZER, loss='categorical_crossentropy', metrics=['accuracy'])\n",
    "        \n",
    "    # train and store the accuracy and loss scores\n",
    "    histories.append(model.fit(combined_x_data[train_index],combined_y_data[train_index], epochs=N_EPOCH, \n",
    "        batch_size=BATCH_SIZE, verbose=VERBOSE))\n",
    "\n",
    "    # test the model and store the results\n",
    "    results = model.evaluate(combined_x_data[test_index], combined_y_data[test_index])\n",
    "    \n",
    "    test_losses.append(results[0])\n",
    "    test_accuracies.append(results[1])\n"
   ]
  },
  {
   "cell_type": "code",
   "execution_count": 8,
   "metadata": {
    "id": "xESPeCWnpJek"
   },
   "outputs": [
    {
     "name": "stdout",
     "output_type": "stream",
     "text": [
      "Fold 1 cross validation accuracy: 0.8914580345153809\n",
      "Fold 1 cross validation loss: 0.42327538430690764\n",
      "Fold 2 cross validation accuracy: 0.9241383999586106\n",
      "Fold 2 cross validation loss: 0.2786152720451355\n",
      "Fold 3 cross validation accuracy: 0.9331419676542282\n",
      "Fold 3 cross validation loss: 0.2506678394973278\n",
      "Fold 4 cross validation accuracy: 0.9390008926391602\n",
      "Fold 4 cross validation loss: 0.23310305550694466\n",
      "Fold 5 cross validation accuracy: 0.9438803553581238\n",
      "Fold 5 cross validation loss: 0.22000123783946038\n",
      "Average cross validation accuracy: 0.9263239300251007\n",
      "Average cross validation loss: 0.2811325578391552\n"
     ]
    }
   ],
   "source": [
    "# Iterate over each fold and print out the loss and accuracy scores\n",
    "cross_val_accuracies = []\n",
    "cross_val_losses = []\n",
    "for x in range(k):\n",
    "    cross_val_accuracies.append(sum(histories[x].history['accuracy']) / N_EPOCH)\n",
    "    cross_val_losses.append(sum(histories[x].history['loss']) / N_EPOCH)\n",
    "    print(f'Fold {x + 1} cross validation accuracy: { cross_val_accuracies[x] }')\n",
    "    print(f'Fold {x + 1} cross validation loss: { cross_val_losses[x] }')\n",
    "\n",
    "# Obtain the validations \n",
    "average_validation_accuracy = sum(cross_val_accuracies) / k\n",
    "average_validation_loss = sum(cross_val_losses) / k\n",
    "\n",
    "# Print the results\n",
    "print(f'Average cross validation accuracy: {average_validation_accuracy}')\n",
    "print(f'Average cross validation loss: {average_validation_loss}')"
   ]
  },
  {
   "cell_type": "code",
   "execution_count": 9,
   "metadata": {
    "id": "WnCeV6qP6xmT"
   },
   "outputs": [
    {
     "data": {
      "image/png": "[encoded data removed]",
      "text/plain": [
       "<Figure size 432x288 with 1 Axes>"
      ]
     },
     "metadata": {
      "needs_background": "light"
     },
     "output_type": "display_data"
    },
    {
     "data": {
      "image/png": "[encoded data removed]",
      "text/plain": [
       "<Figure size 432x288 with 1 Axes>"
      ]
     },
     "metadata": {
      "needs_background": "light"
     },
     "output_type": "display_data"
    }
   ],
   "source": [
    "# generate x axis labels\n",
    "axis = np.arange(k) + 1\n",
    "\n",
    "# plot testing accuracy\n",
    "labels = [ f'Fold {x + 1}' for x in range(k)]\n",
    "plt.bar(labels, test_accuracies)\n",
    "plt.title('Testing model accuracy')\n",
    "plt.ylabel('accuracy')\n",
    "plt.xlabel('Folds')\n",
    "plt.show()\n",
    " \n",
    "# plot testing loss\n",
    "plt.bar(labels, test_losses)\n",
    "plt.title('Testing model loss')\n",
    "plt.ylabel('loss')\n",
    "plt.xlabel('Fold')\n",
    "plt.show()\n"
   ]
  },
  {
   "attachments": {},
   "cell_type": "markdown",
   "metadata": {
    "id": "ImI7busBrCie"
   },
   "source": [
    "Remarks:\n",
    "\n",
    "There was a slight drop in the network's accuracy  when applying regularisation as compared to not applying it. The regularisation used was L2. In addition to the slight drop in network's accuracy, the network's loss also significantly differed as regularisation increases loss to ensure that there is no overfitting. It is expected of regularization method L2 as it forces the model weights to be kept as small as possible, reducing them model's variance but increasing its bias. \n",
    "\n",
    "Overall, the accuracy of the model is quite good with testing and validation accuracy being above 80%. The loss for the validation set and testing are also fairly similar which could mean that the model is currently not overfitting or underfitting. \n",
    "\n",
    "Another way to improve results/performance could be perhaps to add another convolutional layer as this might provide even higher accuracy. Additionally, to further reduce the losses of the model, a different regularization technique could be used such as drop out or combining both l1 and l2 as regularization methods. Further tweaking of L2 hyperparameter could also possibly yield better results. \n",
    "\n"
   ]
  },
  {
   "attachments": {},
   "cell_type": "markdown",
   "metadata": {
    "id": "EcSc_1JiqRA3"
   },
   "source": []
  }
 ],
 "metadata": {
  "accelerator": "GPU",
  "colab": {
   "provenance": []
  },
  "gpuClass": "standard",
  "kernelspec": {
   "display_name": "Python 3 (ipykernel)",
   "language": "python",
   "name": "python3"
  },
  "language_info": {
   "codemirror_mode": {
    "name": "ipython",
    "version": 3
   },
   "file_extension": ".py",
   "mimetype": "text/x-python",
   "name": "python",
   "nbconvert_exporter": "python",
   "pygments_lexer": "ipython3",
   "version": "3.8.10"
  },
  "vscode": {
   "interpreter": {
    "hash": "d3e7af04d29b7c7f09156ce72bf463dad5c8b45a218773abf1ffb50277174388"
   }
  }
 },
 "nbformat": 4,
 "nbformat_minor": 1
}
