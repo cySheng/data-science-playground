{
  "cells": [
    {
      "attachments": {},
      "cell_type": "markdown",
      "id": "fe4a72b0",
      "metadata": {
        "id": "fe4a72b0"
      },
      "source": [
        "# Deep Learning\n",
        "\n",
        "##  Description: \n",
        "Create a code, in the provided template in Moodle, to train two Recurrent Neural Networks (RNNs) on the public benchmark dataset named Poker Hand available at: https://archive.ics.uci.edu/ml/datasets/Poker+Hand. \n",
        "\n",
        "Poker Hand dataset is composed of one training set named “poker-hand-training-true.data” and one testing set named “poker-hand-testing.data”. \n",
        "You will need to download both training and testing sets into your local disk by clicking the Data Folder link (see the image below).\n",
        "\n",
        "In Poker Hand dataset, each data sample (row) is an example of a hand consisting of five playing cards drawn from a standard deck of 52. Each card is described using two attributes (suit and rank), for a total of 10 predictive attributes. There is one Class attribute that describes the \"Poker Hand\". You can find more information about this dataset from: \n",
        "https://www.kaggle.com/datasets/rasvob/uci-poker-hand-dataset\n",
        "\n",
        "The dataset should be imported in the code. An example on how to import the dataset to your code can be found from the link below:\n",
        "https://www.kaggle.com/code/rasvob/uci-poker-dataset-classification\n"
      ]
    },
    {
      "attachments": {},
      "cell_type": "markdown",
      "id": "25e5b81a",
      "metadata": {
        "id": "25e5b81a"
      },
      "source": [
        "## Import the training and testing set in the cell below"
      ]
    },
    {
      "cell_type": "code",
      "execution_count": null,
      "id": "bfbb5617",
      "metadata": {
        "colab": {
          "base_uri": "https://localhost:8080/"
        },
        "id": "bfbb5617",
        "outputId": "0333b5d5-1e2c-4dae-bdb1-077473142346"
      },
      "outputs": [
        {
          "name": "stdout",
          "output_type": "stream",
          "text": [
            "       S1  C1  S2  C2  S3  C3  S4  C4  S5  C5  Label\n",
            "25005   3   9   2   6   4  11   4  12   2   4      0\n",
            "25006   4   1   4  10   3  13   3   4   1  10      1\n",
            "25007   2   1   2  10   4   4   4   1   4  13      1\n",
            "25008   2  12   4   3   1  10   1  12   4   9      1\n",
            "25009   1   7   3  11   3   3   4   8   3   7      1\n"
          ]
        }
      ],
      "source": [
        "import pandas as pd\n",
        "import numpy as np\n",
        "# import seaborn as sns\n",
        "import matplotlib.pyplot as plt\n",
        "from sklearn.preprocessing import OneHotEncoder, MinMaxScaler\n",
        "from keras.layers import CategoryEncoding\n",
        "from sklearn import preprocessing\n",
        "from tensorflow.keras import utils\n",
        "\n",
        "test = pd.read_csv('poker-hand-testing.data', header=None)\n",
        "train = pd.read_csv('poker-hand-training-true.data', header=None)\n",
        "# normal layout\n",
        "train.columns = ['S1', 'C1','S2', 'C2','S3', 'C3','S4', 'C4','S5', 'C5','Label']\n",
        "test.columns = ['S1', 'C1','S2', 'C2','S3', 'C3','S4', 'C4','S5', 'C5','Label']\n",
        "\n",
        "# group suites together and card values together\n",
        "# train.columns = ['S1', 'S2', 'S3', 'S4', 'S5', 'C1', 'C2', 'C3', 'C4', 'C5', 'Label']\n",
        "# test.columns = ['S1', 'S2', 'S3', 'S4', 'S5', 'C1', 'C2', 'C3', 'C4', 'C5', 'Label']\n",
        "\n",
        "# for debugging purposes\n",
        "# print('Original Data')\n",
        "print(train.tail())\n",
        "\n",
        "\n",
        "# ensure the card values are sorted in order\n",
        "train_c = train[['C1', 'C2', 'C3', 'C4', 'C5']]\n",
        "train_c.values.sort()\n",
        "train[['C1', 'C2', 'C3', 'C4', 'C5']] = train_c\n",
        "# ensure the card values are sorted in order\n",
        "test_c = test[['C1', 'C2', 'C3', 'C4', 'C5']]\n",
        "test_c.values.sort()\n",
        "test[['C1', 'C2', 'C3', 'C4', 'C5']] = test_c\n",
        "\n",
        "# for debugging purposes\n",
        "# print('Modified Data')\n",
        "# print(train.tail())\n",
        "# print(train.shape)\n",
        "# print(test.head())\n",
        "# print(test.shape)\n",
        "\n",
        "# encode training labels\n",
        "encoder=CategoryEncoding(num_tokens=10, output_mode=\"one_hot\") # one hot coding to vectorize the labels\n",
        "\n",
        "# set x and y train/test data\n",
        "x_train = train.loc[:,train.columns != 'Label'].to_numpy()\n",
        "x_test = test.loc[:,test.columns != 'Label'].to_numpy()\n",
        "y_train = train['Label']\n",
        "y_test = test['Label']\n",
        "\n",
        "# normalize data \n",
        "scaler = MinMaxScaler()\n",
        "x_train_normalized = scaler.fit_transform(x_train)\n",
        "x_test_normalized = scaler.fit_transform(x_test)\n",
        "\n",
        "# data should be in the format : [samples, time_steps, features] \n",
        "x_train_reshaped = x_train_normalized.reshape((len(x_train), 1, 10))\n",
        "x_test_reshaped = x_test_normalized.reshape((len(x_test), 1, 10))\n",
        "\n"
      ]
    },
    {
      "attachments": {},
      "cell_type": "markdown",
      "id": "c42a8b9d",
      "metadata": {
        "id": "c42a8b9d"
      },
      "source": [
        "## Implement the vanilla RNN in the cell below"
      ]
    },
    {
      "cell_type": "code",
      "execution_count": 27,
      "id": "c55b958d",
      "metadata": {
        "colab": {
          "base_uri": "https://localhost:8080/"
        },
        "id": "c55b958d",
        "outputId": "d05b94b4-a016-4ae1-da9e-1480ff067fab"
      },
      "outputs": [
        {
          "name": "stdout",
          "output_type": "stream",
          "text": [
            "Model: \"sequential_3\"\n",
            "_________________________________________________________________\n",
            " Layer (type)                Output Shape              Param #   \n",
            "=================================================================\n",
            " simple_rnn_1 (SimpleRNN)    (None, 256)               68352     \n",
            "                                                                 \n",
            " dense_3 (Dense)             (None, 10)                2570      \n",
            "                                                                 \n",
            "=================================================================\n",
            "Total params: 70,922\n",
            "Trainable params: 70,922\n",
            "Non-trainable params: 0\n",
            "_________________________________________________________________\n"
          ]
        }
      ],
      "source": [
        "import tensorflow\n",
        "from tensorflow import keras\n",
        "from keras.models import Sequential\n",
        "from keras.layers import Dense,SimpleRNN\n",
        "model = Sequential() # create a sequential model\n",
        "# A Sequential model is appropriate for a plain stack of layers\n",
        "# where each layer has exactly one input tensor and one output tensor\n",
        "model.add(SimpleRNN(units=256, input_shape=(1,10), activation='relu'))  # add recurrent neurons to the model\n",
        "model.add(Dense(units=10, activation='relu')) # add dense layer as the output layer of the model\n",
        "model.compile(loss='mean_squared_error', optimizer='adam', metrics=['accuracy']) # specify loss metrics and optimizer for the model\n",
        "model.summary()"
      ]
    },
    {
      "attachments": {},
      "cell_type": "markdown",
      "id": "cc3706ee",
      "metadata": {
        "id": "cc3706ee"
      },
      "source": [
        "## Train the vanilla RNN based on the training set in the cell below"
      ]
    },
    {
      "cell_type": "code",
      "execution_count": 28,
      "id": "9cda5c82",
      "metadata": {
        "colab": {
          "base_uri": "https://localhost:8080/"
        },
        "id": "9cda5c82",
        "outputId": "4cf45b34-0bc4-4f3f-bc79-c5781c914d31"
      },
      "outputs": [
        {
          "name": "stdout",
          "output_type": "stream",
          "text": [
            "Epoch 1/40\n",
            "391/391 - 4s - loss: 0.0564 - accuracy: 0.5412 - 4s/epoch - 9ms/step\n",
            "Epoch 2/40\n",
            "391/391 - 2s - loss: 0.0515 - accuracy: 0.5958 - 2s/epoch - 6ms/step\n",
            "Epoch 3/40\n",
            "391/391 - 2s - loss: 0.0473 - accuracy: 0.6587 - 2s/epoch - 4ms/step\n",
            "Epoch 4/40\n",
            "391/391 - 1s - loss: 0.0437 - accuracy: 0.7035 - 1s/epoch - 4ms/step\n",
            "Epoch 5/40\n",
            "391/391 - 1s - loss: 0.0407 - accuracy: 0.7289 - 1s/epoch - 4ms/step\n",
            "Epoch 6/40\n",
            "391/391 - 1s - loss: 0.0378 - accuracy: 0.7588 - 1s/epoch - 3ms/step\n",
            "Epoch 7/40\n",
            "391/391 - 1s - loss: 0.0351 - accuracy: 0.7877 - 1s/epoch - 3ms/step\n",
            "Epoch 8/40\n",
            "391/391 - 1s - loss: 0.0326 - accuracy: 0.8162 - 1s/epoch - 4ms/step\n",
            "Epoch 9/40\n",
            "391/391 - 1s - loss: 0.0301 - accuracy: 0.8433 - 1s/epoch - 4ms/step\n",
            "Epoch 10/40\n",
            "391/391 - 2s - loss: 0.0278 - accuracy: 0.8723 - 2s/epoch - 5ms/step\n",
            "Epoch 11/40\n",
            "391/391 - 2s - loss: 0.0253 - accuracy: 0.8992 - 2s/epoch - 6ms/step\n",
            "Epoch 12/40\n",
            "391/391 - 1s - loss: 0.0234 - accuracy: 0.9136 - 1s/epoch - 4ms/step\n",
            "Epoch 13/40\n",
            "391/391 - 1s - loss: 0.0216 - accuracy: 0.9228 - 1s/epoch - 4ms/step\n",
            "Epoch 14/40\n",
            "391/391 - 1s - loss: 0.0203 - accuracy: 0.9242 - 1s/epoch - 3ms/step\n",
            "Epoch 15/40\n",
            "391/391 - 1s - loss: 0.0193 - accuracy: 0.9258 - 1s/epoch - 4ms/step\n",
            "Epoch 16/40\n",
            "391/391 - 1s - loss: 0.0184 - accuracy: 0.9267 - 1s/epoch - 3ms/step\n",
            "Epoch 17/40\n",
            "391/391 - 1s - loss: 0.0177 - accuracy: 0.9273 - 1s/epoch - 4ms/step\n",
            "Epoch 18/40\n",
            "391/391 - 2s - loss: 0.0171 - accuracy: 0.9289 - 2s/epoch - 4ms/step\n",
            "Epoch 19/40\n",
            "391/391 - 3s - loss: 0.0168 - accuracy: 0.9300 - 3s/epoch - 6ms/step\n",
            "Epoch 20/40\n",
            "391/391 - 2s - loss: 0.0164 - accuracy: 0.9307 - 2s/epoch - 5ms/step\n",
            "Epoch 21/40\n",
            "391/391 - 1s - loss: 0.0159 - accuracy: 0.9331 - 1s/epoch - 4ms/step\n",
            "Epoch 22/40\n",
            "391/391 - 1s - loss: 0.0154 - accuracy: 0.9343 - 1s/epoch - 4ms/step\n",
            "Epoch 23/40\n",
            "391/391 - 1s - loss: 0.0151 - accuracy: 0.9353 - 1s/epoch - 4ms/step\n",
            "Epoch 24/40\n",
            "391/391 - 1s - loss: 0.0146 - accuracy: 0.9390 - 1s/epoch - 4ms/step\n",
            "Epoch 25/40\n",
            "391/391 - 1s - loss: 0.0142 - accuracy: 0.9415 - 1s/epoch - 4ms/step\n",
            "Epoch 26/40\n",
            "391/391 - 1s - loss: 0.0139 - accuracy: 0.9443 - 1s/epoch - 4ms/step\n",
            "Epoch 27/40\n",
            "391/391 - 2s - loss: 0.0135 - accuracy: 0.9465 - 2s/epoch - 6ms/step\n",
            "Epoch 28/40\n",
            "391/391 - 2s - loss: 0.0132 - accuracy: 0.9501 - 2s/epoch - 6ms/step\n",
            "Epoch 29/40\n",
            "391/391 - 1s - loss: 0.0127 - accuracy: 0.9531 - 1s/epoch - 4ms/step\n",
            "Epoch 30/40\n",
            "391/391 - 1s - loss: 0.0124 - accuracy: 0.9561 - 1s/epoch - 4ms/step\n",
            "Epoch 31/40\n",
            "391/391 - 1s - loss: 0.0121 - accuracy: 0.9597 - 1s/epoch - 4ms/step\n",
            "Epoch 32/40\n",
            "391/391 - 1s - loss: 0.0118 - accuracy: 0.9628 - 1s/epoch - 4ms/step\n",
            "Epoch 33/40\n",
            "391/391 - 2s - loss: 0.0114 - accuracy: 0.9671 - 2s/epoch - 4ms/step\n",
            "Epoch 34/40\n",
            "391/391 - 2s - loss: 0.0110 - accuracy: 0.9699 - 2s/epoch - 4ms/step\n",
            "Epoch 35/40\n",
            "391/391 - 2s - loss: 0.0108 - accuracy: 0.9720 - 2s/epoch - 5ms/step\n",
            "Epoch 36/40\n",
            "391/391 - 2s - loss: 0.0105 - accuracy: 0.9725 - 2s/epoch - 6ms/step\n",
            "Epoch 37/40\n",
            "391/391 - 2s - loss: 0.0102 - accuracy: 0.9765 - 2s/epoch - 4ms/step\n",
            "Epoch 38/40\n",
            "391/391 - 1s - loss: 0.0099 - accuracy: 0.9777 - 1s/epoch - 4ms/step\n",
            "Epoch 39/40\n",
            "391/391 - 1s - loss: 0.0096 - accuracy: 0.9788 - 1s/epoch - 4ms/step\n",
            "Epoch 40/40\n",
            "391/391 - 1s - loss: 0.0093 - accuracy: 0.9796 - 1s/epoch - 3ms/step\n"
          ]
        },
        {
          "data": {
            "text/plain": [
              "<keras.callbacks.History at 0x7efd14a0a8e0>"
            ]
          },
          "execution_count": 28,
          "metadata": {},
          "output_type": "execute_result"
        }
      ],
      "source": [
        "# training the model\n",
        "model.fit(x_train_reshaped, encoder(y_train), epochs=40, batch_size=64, verbose=2)"
      ]
    },
    {
      "attachments": {},
      "cell_type": "markdown",
      "id": "576f7c18",
      "metadata": {
        "id": "576f7c18"
      },
      "source": [
        "## Evaluate the vanilla RNN based on the testing set in the cell below"
      ]
    },
    {
      "cell_type": "code",
      "execution_count": 29,
      "id": "2f0b7d38",
      "metadata": {
        "colab": {
          "base_uri": "https://localhost:8080/"
        },
        "id": "2f0b7d38",
        "outputId": "ea29ab0c-bc1a-4bd6-e86f-fa2033f58719"
      },
      "outputs": [
        {
          "name": "stdout",
          "output_type": "stream",
          "text": [
            "7813/7813 [==============================] - 21s 3ms/step\n",
            "Accuracy: 87.51%\n"
          ]
        }
      ],
      "source": [
        "from sklearn.metrics import accuracy_score\n",
        "# Use the trained model to predict the testing samples\n",
        "y_pred = model.predict(x_test_reshaped, batch_size=128)\n",
        "\n",
        "# Get the index of the highest predicted output value\n",
        "y_pred_classes = np.argmax(y_pred, axis=1)\n",
        "\n",
        "# Compute the accuracy score\n",
        "accuracy = accuracy_score(y_test, y_pred_classes)\n",
        "\n",
        "print(\"Accuracy: {:.2f}%\".format(accuracy * 100))"
      ]
    },
    {
      "attachments": {},
      "cell_type": "markdown",
      "id": "c290f83d",
      "metadata": {
        "id": "c290f83d"
      },
      "source": [
        "## Present the classification accuracy and confusion matrix of the vanilla RNN in the cell below"
      ]
    },
    {
      "cell_type": "code",
      "execution_count": 30,
      "id": "cb933152",
      "metadata": {
        "colab": {
          "base_uri": "https://localhost:8080/",
          "height": 689
        },
        "id": "cb933152",
        "outputId": "79e05bb7-7326-4f97-c1fb-eec26bc68787"
      },
      "outputs": [
        {
          "data": {
            "image/png": "[encoded data removed]",
            "text/plain": [
              "<Figure size 864x864 with 2 Axes>"
            ]
          },
          "metadata": {
            "needs_background": "light"
          },
          "output_type": "display_data"
        }
      ],
      "source": [
        "from sklearn.metrics import confusion_matrix, ConfusionMatrixDisplay\n",
        "\n",
        "fig, ax = plt.subplots(figsize=(12, 12))\n",
        "# plotting the confusion matrix for the test set\n",
        "cm = confusion_matrix(y_test,y_pred_classes) \n",
        "disp = ConfusionMatrixDisplay.from_predictions(y_test, y_pred_classes, ax = ax)"
      ]
    },
    {
      "attachments": {},
      "cell_type": "markdown",
      "id": "f5468eca",
      "metadata": {
        "id": "f5468eca"
      },
      "source": [
        "## Implement the second RNN based on LSTM or GRU neurons in the cell below"
      ]
    },
    {
      "cell_type": "code",
      "execution_count": 31,
      "id": "a564eae5",
      "metadata": {
        "colab": {
          "base_uri": "https://localhost:8080/"
        },
        "id": "a564eae5",
        "outputId": "b4cb124a-33cb-40e0-cd39-c7539965d9a1"
      },
      "outputs": [
        {
          "name": "stdout",
          "output_type": "stream",
          "text": [
            "Model: \"sequential_4\"\n",
            "_________________________________________________________________\n",
            " Layer (type)                Output Shape              Param #   \n",
            "=================================================================\n",
            " lstm_2 (LSTM)               (None, 256)               273408    \n",
            "                                                                 \n",
            " dense_4 (Dense)             (None, 10)                2570      \n",
            "                                                                 \n",
            "=================================================================\n",
            "Total params: 275,978\n",
            "Trainable params: 275,978\n",
            "Non-trainable params: 0\n",
            "_________________________________________________________________\n"
          ]
        }
      ],
      "source": [
        "## Replace the RNN neuron with LSTM neuron\n",
        "import tensorflow\n",
        "from tensorflow import keras\n",
        "from keras.models import Sequential\n",
        "from keras.layers import Dense,LSTM,CategoryEncoding\n",
        "lstm_model = Sequential() # create a sequential model\n",
        "lstm_model.add(LSTM(units=256, input_shape=(1,10), activation='tanh'))  # add LSTM neurons to the model\n",
        "lstm_model.add(Dense(units=10, activation='tanh')) # add dense layer as the output layer of the model\n",
        "lstm_model.compile(loss='mean_squared_error', optimizer='adam', metrics=['accuracy']) # specify loss metrics and optimizer for the model\n",
        "lstm_model.summary()"
      ]
    },
    {
      "attachments": {},
      "cell_type": "markdown",
      "id": "67424812",
      "metadata": {
        "id": "67424812"
      },
      "source": [
        "## Train the second RNN based on the training set in the cell below"
      ]
    },
    {
      "cell_type": "code",
      "execution_count": 32,
      "id": "48addae9",
      "metadata": {
        "colab": {
          "base_uri": "https://localhost:8080/"
        },
        "id": "48addae9",
        "outputId": "56926ffe-3aad-4fb0-b169-be2a65c9df2d"
      },
      "outputs": [
        {
          "name": "stdout",
          "output_type": "stream",
          "text": [
            "Epoch 1/40\n",
            "391/391 - 7s - loss: 0.0568 - accuracy: 0.5257 - 7s/epoch - 19ms/step\n",
            "Epoch 2/40\n",
            "391/391 - 4s - loss: 0.0547 - accuracy: 0.5489 - 4s/epoch - 9ms/step\n",
            "Epoch 3/40\n",
            "391/391 - 4s - loss: 0.0543 - accuracy: 0.5554 - 4s/epoch - 10ms/step\n",
            "Epoch 4/40\n",
            "391/391 - 5s - loss: 0.0540 - accuracy: 0.5589 - 5s/epoch - 12ms/step\n",
            "Epoch 5/40\n",
            "391/391 - 4s - loss: 0.0535 - accuracy: 0.5655 - 4s/epoch - 10ms/step\n",
            "Epoch 6/40\n",
            "391/391 - 4s - loss: 0.0528 - accuracy: 0.5771 - 4s/epoch - 9ms/step\n",
            "Epoch 7/40\n",
            "391/391 - 5s - loss: 0.0518 - accuracy: 0.5937 - 5s/epoch - 12ms/step\n",
            "Epoch 8/40\n",
            "391/391 - 3s - loss: 0.0510 - accuracy: 0.6057 - 3s/epoch - 9ms/step\n",
            "Epoch 9/40\n",
            "391/391 - 3s - loss: 0.0503 - accuracy: 0.6189 - 3s/epoch - 9ms/step\n",
            "Epoch 10/40\n",
            "391/391 - 4s - loss: 0.0498 - accuracy: 0.6275 - 4s/epoch - 10ms/step\n",
            "Epoch 11/40\n",
            "391/391 - 5s - loss: 0.0494 - accuracy: 0.6348 - 5s/epoch - 12ms/step\n",
            "Epoch 12/40\n",
            "391/391 - 4s - loss: 0.0488 - accuracy: 0.6475 - 4s/epoch - 9ms/step\n",
            "Epoch 13/40\n",
            "391/391 - 3s - loss: 0.0484 - accuracy: 0.6520 - 3s/epoch - 9ms/step\n",
            "Epoch 14/40\n",
            "391/391 - 5s - loss: 0.0479 - accuracy: 0.6616 - 5s/epoch - 13ms/step\n",
            "Epoch 15/40\n",
            "391/391 - 4s - loss: 0.0475 - accuracy: 0.6660 - 4s/epoch - 9ms/step\n",
            "Epoch 16/40\n",
            "391/391 - 3s - loss: 0.0472 - accuracy: 0.6707 - 3s/epoch - 9ms/step\n",
            "Epoch 17/40\n",
            "391/391 - 5s - loss: 0.0467 - accuracy: 0.6734 - 5s/epoch - 12ms/step\n",
            "Epoch 18/40\n",
            "391/391 - 4s - loss: 0.0465 - accuracy: 0.6758 - 4s/epoch - 10ms/step\n",
            "Epoch 19/40\n",
            "391/391 - 4s - loss: 0.0462 - accuracy: 0.6785 - 4s/epoch - 9ms/step\n",
            "Epoch 20/40\n",
            "391/391 - 3s - loss: 0.0459 - accuracy: 0.6838 - 3s/epoch - 9ms/step\n",
            "Epoch 21/40\n",
            "391/391 - 5s - loss: 0.0457 - accuracy: 0.6826 - 5s/epoch - 13ms/step\n",
            "Epoch 22/40\n",
            "391/391 - 3s - loss: 0.0455 - accuracy: 0.6871 - 3s/epoch - 8ms/step\n",
            "Epoch 23/40\n",
            "391/391 - 4s - loss: 0.0452 - accuracy: 0.6906 - 4s/epoch - 9ms/step\n",
            "Epoch 24/40\n",
            "391/391 - 5s - loss: 0.0449 - accuracy: 0.6939 - 5s/epoch - 12ms/step\n",
            "Epoch 25/40\n",
            "391/391 - 4s - loss: 0.0447 - accuracy: 0.6921 - 4s/epoch - 11ms/step\n",
            "Epoch 26/40\n",
            "391/391 - 4s - loss: 0.0445 - accuracy: 0.6944 - 4s/epoch - 10ms/step\n",
            "Epoch 27/40\n",
            "391/391 - 4s - loss: 0.0443 - accuracy: 0.6968 - 4s/epoch - 10ms/step\n",
            "Epoch 28/40\n",
            "391/391 - 5s - loss: 0.0440 - accuracy: 0.6979 - 5s/epoch - 12ms/step\n",
            "Epoch 29/40\n",
            "391/391 - 4s - loss: 0.0438 - accuracy: 0.6986 - 4s/epoch - 10ms/step\n",
            "Epoch 30/40\n",
            "391/391 - 4s - loss: 0.0436 - accuracy: 0.7029 - 4s/epoch - 10ms/step\n",
            "Epoch 31/40\n",
            "391/391 - 5s - loss: 0.0433 - accuracy: 0.7060 - 5s/epoch - 13ms/step\n",
            "Epoch 32/40\n",
            "391/391 - 4s - loss: 0.0429 - accuracy: 0.7096 - 4s/epoch - 10ms/step\n",
            "Epoch 33/40\n",
            "391/391 - 4s - loss: 0.0427 - accuracy: 0.7100 - 4s/epoch - 9ms/step\n",
            "Epoch 34/40\n",
            "391/391 - 5s - loss: 0.0424 - accuracy: 0.7122 - 5s/epoch - 12ms/step\n",
            "Epoch 35/40\n",
            "391/391 - 4s - loss: 0.0422 - accuracy: 0.7124 - 4s/epoch - 9ms/step\n",
            "Epoch 36/40\n",
            "391/391 - 4s - loss: 0.0419 - accuracy: 0.7181 - 4s/epoch - 9ms/step\n",
            "Epoch 37/40\n",
            "391/391 - 4s - loss: 0.0417 - accuracy: 0.7208 - 4s/epoch - 9ms/step\n",
            "Epoch 38/40\n",
            "391/391 - 5s - loss: 0.0413 - accuracy: 0.7231 - 5s/epoch - 12ms/step\n",
            "Epoch 39/40\n",
            "391/391 - 4s - loss: 0.0412 - accuracy: 0.7239 - 4s/epoch - 9ms/step\n",
            "Epoch 40/40\n",
            "391/391 - 4s - loss: 0.0407 - accuracy: 0.7314 - 4s/epoch - 10ms/step\n"
          ]
        },
        {
          "data": {
            "text/plain": [
              "<keras.callbacks.History at 0x7efd0c1c6220>"
            ]
          },
          "execution_count": 32,
          "metadata": {},
          "output_type": "execute_result"
        }
      ],
      "source": [
        "lstm_model.fit(x_train_reshaped, encoder(y_train), epochs=40, batch_size=64, verbose=2)"
      ]
    },
    {
      "attachments": {},
      "cell_type": "markdown",
      "id": "da3522ea",
      "metadata": {
        "id": "da3522ea"
      },
      "source": [
        "## Evaluate the second RNN based on the testing set in the cell below"
      ]
    },
    {
      "cell_type": "code",
      "execution_count": 33,
      "id": "7279608c",
      "metadata": {
        "colab": {
          "base_uri": "https://localhost:8080/"
        },
        "id": "7279608c",
        "outputId": "2fbc051b-0439-4b4f-c318-d499a58fb7f1"
      },
      "outputs": [
        {
          "name": "stdout",
          "output_type": "stream",
          "text": [
            "7813/7813 [==============================] - 44s 6ms/step\n",
            "Test Accuracy: 71.92%\n"
          ]
        }
      ],
      "source": [
        "from sklearn.metrics import accuracy_score\n",
        "# Use the trained model to predict the testing samples\n",
        "y_pred = lstm_model.predict(x_test_reshaped, batch_size=128)\n",
        "\n",
        "# Get the index of the highest predicted output value\n",
        "y_pred_classes = np.argmax(y_pred, axis=1)\n",
        "\n",
        "# Compute the accuracy score\n",
        "accuracy = accuracy_score(y_test, y_pred_classes)\n",
        "\n",
        "print(\"Test Accuracy: {:.2f}%\".format(accuracy * 100))"
      ]
    },
    {
      "attachments": {},
      "cell_type": "markdown",
      "id": "a8a03ed1",
      "metadata": {
        "id": "a8a03ed1"
      },
      "source": [
        "## Present the classification accuracy and confusion matrix of the second RNN in the cell below"
      ]
    },
    {
      "cell_type": "code",
      "execution_count": 34,
      "id": "4805e452",
      "metadata": {
        "colab": {
          "base_uri": "https://localhost:8080/",
          "height": 689
        },
        "id": "4805e452",
        "outputId": "b416bf76-1907-48d4-84ed-03380c1db17d"
      },
      "outputs": [
        {
          "data": {
            "image/png": "[encoded data removed]",
            "text/plain": [
              "<Figure size 864x864 with 2 Axes>"
            ]
          },
          "metadata": {
            "needs_background": "light"
          },
          "output_type": "display_data"
        }
      ],
      "source": [
        "from sklearn.metrics import confusion_matrix, ConfusionMatrixDisplay\n",
        "\n",
        "fig, ax = plt.subplots(figsize=(12, 12))\n",
        "# plotting the confusion matrix for the test set\n",
        "cm = confusion_matrix(y_test,y_pred_classes) \n",
        "disp = ConfusionMatrixDisplay.from_predictions(y_test, y_pred_classes, ax = ax)"
      ]
    },
    {
      "attachments": {},
      "cell_type": "markdown",
      "id": "b792b2df",
      "metadata": {
        "id": "b792b2df"
      },
      "source": [
        "## Question:\n",
        "Compare the advantages and disadvantages of the two models you have implemented and give some ideas on how to improve these results/performance further."
      ]
    },
    {
      "cell_type": "markdown",
      "id": "b16b5401",
      "metadata": {
        "id": "b16b5401"
      },
      "source": [
        "From my results, it appears that pre-processing of data signficantly varies the performance of the models drastically. With just the normalized standard input data, the results barely reached 65% accuracy on both the training and the test set. \n",
        "\n",
        "However, after sorting the numerical rank of the card (e.g. C1 - C5) ascendingly, both the vanilla RNN models and LSTM provided these results:\n",
        "\n",
        "Vanilla RNN (Training Acc): 0.9739 \n",
        "\n",
        "Vanilla RNN (Training Loss): 0.0095\n",
        "\n",
        "Vanilla RNN (Testing Acc): 86.80%\n",
        "\n",
        "LSTM (Training Acc): 0.7032\n",
        "\n",
        "LSTM (Training Loss): 0.0436 \n",
        "\n",
        "LSTM (Testing Acc): 70.26%\n",
        "\n",
        "Unfortunately, some specific details of the dataset are lost as the data is just sorted by the numerical rank instead of sorting both the numerical rank AND the ordinal suit of the cards. This could be another avenue of improvement. \n",
        "\n",
        "We can also see that the results/performance could be further improved with a greater variety of the dataset. This can be seen via the confusion matrix. Looking at the dataset, the ordinal class poker hand (0-9) has very low data representation for stronger/rare poker hands. For e.g. the training set only had 5 rows of data of class 9 (Royal Flush). This predictably leads to poor predictions as there are more representations for lower rank hands. Looking at the confusion matrix, both models predicted a majority for labels of only 0 and 1. The dataset, therefore is highly imbalanced and performance could be improved by a more balanced dataset.  \n",
        "\n",
        "In my specific case, my vanilla RNN model significantly outperformed the LSTM model. However, my vanilla RNN has a significantly higher training accuracy than its testing accuracy which could suggest that the model has overfitted the training data. Reducing the overfitting in the vanilla RNN model could be done by implementing regularization/dropout OR cross-fold validations to reduce overfitting. Cross-fold validations would be particularly difficult for this dataset because of the highly imbalanced dataset. \n",
        "\n",
        "Originally, my LSTM model utilized one hidden LSTM layer with 64 neuron units which produced the results above. Increasing the number of neurons from 64 to 256 for the LSTM layer produced marginally better results with training accuracy jumping to 72.2% from 70.26%. The Vanilla RNN model with a 256 neuron units took 1 minute to train while the LSTM model with 256 neuron units took 2 minutes to train. This meant that the time it took the LSTM model to train was twice that of the Vanilla RNN model. \n",
        "\n",
        "Another avenue of improvement could perhaps be adding more layers to the LSTM model to help further improve accuracy. \n"
      ]
    }
  ],
  "metadata": {
    "colab": {
      "provenance": []
    },
    "kernelspec": {
      "display_name": "Python 3",
      "language": "python",
      "name": "python3"
    },
    "language_info": {
      "codemirror_mode": {
        "name": "ipython",
        "version": 3
      },
      "file_extension": ".py",
      "mimetype": "text/x-python",
      "name": "python",
      "nbconvert_exporter": "python",
      "pygments_lexer": "ipython3",
      "version": "3.10.0"
    }
  },
  "nbformat": 4,
  "nbformat_minor": 5
}
